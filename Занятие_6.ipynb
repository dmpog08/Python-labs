{
  "cells": [
    {
      "cell_type": "markdown",
      "metadata": {
        "id": "view-in-github",
        "colab_type": "text"
      },
      "source": [
        "<a href=\"https://colab.research.google.com/github/dmpog08/Python-labs/blob/main/%D0%97%D0%B0%D0%BD%D1%8F%D1%82%D0%B8%D0%B5_6.ipynb\" target=\"_parent\"><img src=\"https://colab.research.google.com/assets/colab-badge.svg\" alt=\"Open In Colab\"/></a>"
      ]
    },
    {
      "cell_type": "markdown",
      "metadata": {
        "id": "uTldtFnio_Jb"
      },
      "source": [
        "# Сводная таблица pivot_table\n",
        "\n",
        "Сводная таблица - это мощный инструмент для обобщения и представления данных.\n",
        "\n",
        "В Pandas для подготовки сводных таблиц вызывают метод **pivot_table()**.\n",
        "\n",
        "Аргументы метода:\n",
        "\n",
        "• index — ключи для группировки по индексу (строке)\n",
        "\n",
        "• columns — ключи для группировки столбцов\n",
        "\n",
        "• values — значения, по которым мы хотим увидеть сводную таблицу (столбцы для агрегирования)\n",
        "\n",
        "• aggfunc — функция, применяемая к значениям (т.е. что делать с повторяющимися значениями)\n",
        "\n",
        "<img src=\"https://raw.githubusercontent.com/dm-fedorov/pandas_basic/master/pic/pivot_table_pandas.png\" >\n",
        "\n"
      ]
    },
    {
      "cell_type": "markdown",
      "metadata": {
        "id": "9TE2dXTAo_Jf"
      },
      "source": [
        "Построим сводную таблицу для задачи по SEO-оптимизации.\n",
        "Для начала загрузите дата-сет data.final, полученный в результате выполнения предыдущей задачи (объединения таблиц), сохраните ешл в переменной df."
      ]
    },
    {
      "cell_type": "code",
      "source": [
        "from google.colab import drive\n",
        "drive.mount('/content/drive')"
      ],
      "metadata": {
        "colab": {
          "base_uri": "https://localhost:8080/"
        },
        "id": "K7F9DCO0wl_u",
        "outputId": "100025f7-72fa-4159-9773-b2c06f253e54"
      },
      "execution_count": null,
      "outputs": [
        {
          "output_type": "stream",
          "name": "stdout",
          "text": [
            "Mounted at /content/drive\n"
          ]
        }
      ]
    },
    {
      "cell_type": "code",
      "execution_count": null,
      "metadata": {
        "colab": {
          "base_uri": "https://localhost:8080/",
          "height": 990
        },
        "id": "35LPskiio_Jg",
        "outputId": "14b827a9-b693-4415-80a5-7ac9d0cf11de"
      },
      "outputs": [
        {
          "output_type": "execute_result",
          "data": {
            "text/plain": [
              "   subcategory_id  source  visits                subcategory_name category_id  \\\n",
              "0      cf2e61c7af  direct  501165              Мобильные телефоны  09f279a643   \n",
              "1      0cd903d1cc  direct  126342                        Ноутбуки  3509869a61   \n",
              "2      ef35bc88a7  direct   95626                      Телевизоры  09f279a643   \n",
              "3      6ff9f4014c  direct   75680                        Планшеты  3509869a61   \n",
              "4      72bc238e4d  direct   64435  Наушники и Bluetooth-гарнитуры  09f279a643   \n",
              "5      88c78ea685  direct   39638                            Шины  65922fa39c   \n",
              "6      179bfacf4a  direct   31007           Умные часы и браслеты  09f279a643   \n",
              "7      b0fb8f259a  direct   30324                        Мониторы  3509869a61   \n",
              "8      3c67eb2d90  direct   25878                   Наручные часы  6074ad29ac   \n",
              "9      24e6c815c6  direct   25276  Лекарственные препараты и БАДы  10a493e03b   \n",
              "10     00fd6e5a87  direct   22064               Стиральные машины  5a0d8ac946   \n",
              "11     29c9b62225  direct   20920                    Холодильники  5a0d8ac946   \n",
              "12     3cc6f62679  direct   20886                      Видеокарты  3509869a61   \n",
              "13     c4412ce45c  direct   19614                  Принтеры и МФУ  3509869a61   \n",
              "14     4a57f562b8  direct   18079                         Коляски  7dbac4c1a3   \n",
              "15     63d35150a7  direct   17616  Оборудование Wi-Fi и Bluetooth  3509869a61   \n",
              "16     fdabd3c725  direct   17167                        Пылесосы  5a0d8ac946   \n",
              "17     08593bd62f  direct   16009                      Велосипеды  ae99947659   \n",
              "18     5835164e67  direct   15377        Внутренние жесткие диски  3509869a61   \n",
              "19     5c5c31b04a  direct   15315               Материнские платы  3509869a61   \n",
              "20     d891b3c5d5  direct   15167               Видеорегистраторы  65922fa39c   \n",
              "21     ffa1fc88a2  direct   14776                    Фотоаппараты  09f279a643   \n",
              "22     8f30c6ac97  direct   13836          Кофеварки и кофемашины  5a0d8ac946   \n",
              "23     eb317da761  direct   13778                      Парфюмерия  655ccc3c49   \n",
              "24     01f8276040  direct   12509                Процессоры (CPU)  3509869a61   \n",
              "25     18436f1c4c  direct   12497                 Варочные панели  5a0d8ac946   \n",
              "26     389068f27f  direct   12274                           Плиты  5a0d8ac946   \n",
              "27     79164a43ea  direct   11141                  Колесные диски  65922fa39c   \n",
              "28     367be1ab13  direct   10552            Портативная акустика  09f279a643   \n",
              "29     a659a61627  direct   10517                   Духовые шкафы  5a0d8ac946   \n",
              "\n",
              "                 category_name  \n",
              "0                  Электроника  \n",
              "1         Компьютерная техника  \n",
              "2                  Электроника  \n",
              "3         Компьютерная техника  \n",
              "4                  Электроника  \n",
              "5                         Авто  \n",
              "6                  Электроника  \n",
              "7         Компьютерная техника  \n",
              "8   Одежда, обувь и аксессуары  \n",
              "9          Товары для здоровья  \n",
              "10             Бытовая техника  \n",
              "11             Бытовая техника  \n",
              "12        Компьютерная техника  \n",
              "13        Компьютерная техника  \n",
              "14              Детские товары  \n",
              "15        Компьютерная техника  \n",
              "16             Бытовая техника  \n",
              "17               Спорт и отдых  \n",
              "18        Компьютерная техника  \n",
              "19        Компьютерная техника  \n",
              "20                        Авто  \n",
              "21                 Электроника  \n",
              "22             Бытовая техника  \n",
              "23          Товары для красоты  \n",
              "24        Компьютерная техника  \n",
              "25             Бытовая техника  \n",
              "26             Бытовая техника  \n",
              "27                        Авто  \n",
              "28                 Электроника  \n",
              "29             Бытовая техника  "
            ],
            "text/html": [
              "\n",
              "  <div id=\"df-fa7c82e7-2b5e-4b30-933b-b12c9b055d45\" class=\"colab-df-container\">\n",
              "    <div>\n",
              "<style scoped>\n",
              "    .dataframe tbody tr th:only-of-type {\n",
              "        vertical-align: middle;\n",
              "    }\n",
              "\n",
              "    .dataframe tbody tr th {\n",
              "        vertical-align: top;\n",
              "    }\n",
              "\n",
              "    .dataframe thead th {\n",
              "        text-align: right;\n",
              "    }\n",
              "</style>\n",
              "<table border=\"1\" class=\"dataframe\">\n",
              "  <thead>\n",
              "    <tr style=\"text-align: right;\">\n",
              "      <th></th>\n",
              "      <th>subcategory_id</th>\n",
              "      <th>source</th>\n",
              "      <th>visits</th>\n",
              "      <th>subcategory_name</th>\n",
              "      <th>category_id</th>\n",
              "      <th>category_name</th>\n",
              "    </tr>\n",
              "  </thead>\n",
              "  <tbody>\n",
              "    <tr>\n",
              "      <th>0</th>\n",
              "      <td>cf2e61c7af</td>\n",
              "      <td>direct</td>\n",
              "      <td>501165</td>\n",
              "      <td>Мобильные телефоны</td>\n",
              "      <td>09f279a643</td>\n",
              "      <td>Электроника</td>\n",
              "    </tr>\n",
              "    <tr>\n",
              "      <th>1</th>\n",
              "      <td>0cd903d1cc</td>\n",
              "      <td>direct</td>\n",
              "      <td>126342</td>\n",
              "      <td>Ноутбуки</td>\n",
              "      <td>3509869a61</td>\n",
              "      <td>Компьютерная техника</td>\n",
              "    </tr>\n",
              "    <tr>\n",
              "      <th>2</th>\n",
              "      <td>ef35bc88a7</td>\n",
              "      <td>direct</td>\n",
              "      <td>95626</td>\n",
              "      <td>Телевизоры</td>\n",
              "      <td>09f279a643</td>\n",
              "      <td>Электроника</td>\n",
              "    </tr>\n",
              "    <tr>\n",
              "      <th>3</th>\n",
              "      <td>6ff9f4014c</td>\n",
              "      <td>direct</td>\n",
              "      <td>75680</td>\n",
              "      <td>Планшеты</td>\n",
              "      <td>3509869a61</td>\n",
              "      <td>Компьютерная техника</td>\n",
              "    </tr>\n",
              "    <tr>\n",
              "      <th>4</th>\n",
              "      <td>72bc238e4d</td>\n",
              "      <td>direct</td>\n",
              "      <td>64435</td>\n",
              "      <td>Наушники и Bluetooth-гарнитуры</td>\n",
              "      <td>09f279a643</td>\n",
              "      <td>Электроника</td>\n",
              "    </tr>\n",
              "    <tr>\n",
              "      <th>5</th>\n",
              "      <td>88c78ea685</td>\n",
              "      <td>direct</td>\n",
              "      <td>39638</td>\n",
              "      <td>Шины</td>\n",
              "      <td>65922fa39c</td>\n",
              "      <td>Авто</td>\n",
              "    </tr>\n",
              "    <tr>\n",
              "      <th>6</th>\n",
              "      <td>179bfacf4a</td>\n",
              "      <td>direct</td>\n",
              "      <td>31007</td>\n",
              "      <td>Умные часы и браслеты</td>\n",
              "      <td>09f279a643</td>\n",
              "      <td>Электроника</td>\n",
              "    </tr>\n",
              "    <tr>\n",
              "      <th>7</th>\n",
              "      <td>b0fb8f259a</td>\n",
              "      <td>direct</td>\n",
              "      <td>30324</td>\n",
              "      <td>Мониторы</td>\n",
              "      <td>3509869a61</td>\n",
              "      <td>Компьютерная техника</td>\n",
              "    </tr>\n",
              "    <tr>\n",
              "      <th>8</th>\n",
              "      <td>3c67eb2d90</td>\n",
              "      <td>direct</td>\n",
              "      <td>25878</td>\n",
              "      <td>Наручные часы</td>\n",
              "      <td>6074ad29ac</td>\n",
              "      <td>Одежда, обувь и аксессуары</td>\n",
              "    </tr>\n",
              "    <tr>\n",
              "      <th>9</th>\n",
              "      <td>24e6c815c6</td>\n",
              "      <td>direct</td>\n",
              "      <td>25276</td>\n",
              "      <td>Лекарственные препараты и БАДы</td>\n",
              "      <td>10a493e03b</td>\n",
              "      <td>Товары для здоровья</td>\n",
              "    </tr>\n",
              "    <tr>\n",
              "      <th>10</th>\n",
              "      <td>00fd6e5a87</td>\n",
              "      <td>direct</td>\n",
              "      <td>22064</td>\n",
              "      <td>Стиральные машины</td>\n",
              "      <td>5a0d8ac946</td>\n",
              "      <td>Бытовая техника</td>\n",
              "    </tr>\n",
              "    <tr>\n",
              "      <th>11</th>\n",
              "      <td>29c9b62225</td>\n",
              "      <td>direct</td>\n",
              "      <td>20920</td>\n",
              "      <td>Холодильники</td>\n",
              "      <td>5a0d8ac946</td>\n",
              "      <td>Бытовая техника</td>\n",
              "    </tr>\n",
              "    <tr>\n",
              "      <th>12</th>\n",
              "      <td>3cc6f62679</td>\n",
              "      <td>direct</td>\n",
              "      <td>20886</td>\n",
              "      <td>Видеокарты</td>\n",
              "      <td>3509869a61</td>\n",
              "      <td>Компьютерная техника</td>\n",
              "    </tr>\n",
              "    <tr>\n",
              "      <th>13</th>\n",
              "      <td>c4412ce45c</td>\n",
              "      <td>direct</td>\n",
              "      <td>19614</td>\n",
              "      <td>Принтеры и МФУ</td>\n",
              "      <td>3509869a61</td>\n",
              "      <td>Компьютерная техника</td>\n",
              "    </tr>\n",
              "    <tr>\n",
              "      <th>14</th>\n",
              "      <td>4a57f562b8</td>\n",
              "      <td>direct</td>\n",
              "      <td>18079</td>\n",
              "      <td>Коляски</td>\n",
              "      <td>7dbac4c1a3</td>\n",
              "      <td>Детские товары</td>\n",
              "    </tr>\n",
              "    <tr>\n",
              "      <th>15</th>\n",
              "      <td>63d35150a7</td>\n",
              "      <td>direct</td>\n",
              "      <td>17616</td>\n",
              "      <td>Оборудование Wi-Fi и Bluetooth</td>\n",
              "      <td>3509869a61</td>\n",
              "      <td>Компьютерная техника</td>\n",
              "    </tr>\n",
              "    <tr>\n",
              "      <th>16</th>\n",
              "      <td>fdabd3c725</td>\n",
              "      <td>direct</td>\n",
              "      <td>17167</td>\n",
              "      <td>Пылесосы</td>\n",
              "      <td>5a0d8ac946</td>\n",
              "      <td>Бытовая техника</td>\n",
              "    </tr>\n",
              "    <tr>\n",
              "      <th>17</th>\n",
              "      <td>08593bd62f</td>\n",
              "      <td>direct</td>\n",
              "      <td>16009</td>\n",
              "      <td>Велосипеды</td>\n",
              "      <td>ae99947659</td>\n",
              "      <td>Спорт и отдых</td>\n",
              "    </tr>\n",
              "    <tr>\n",
              "      <th>18</th>\n",
              "      <td>5835164e67</td>\n",
              "      <td>direct</td>\n",
              "      <td>15377</td>\n",
              "      <td>Внутренние жесткие диски</td>\n",
              "      <td>3509869a61</td>\n",
              "      <td>Компьютерная техника</td>\n",
              "    </tr>\n",
              "    <tr>\n",
              "      <th>19</th>\n",
              "      <td>5c5c31b04a</td>\n",
              "      <td>direct</td>\n",
              "      <td>15315</td>\n",
              "      <td>Материнские платы</td>\n",
              "      <td>3509869a61</td>\n",
              "      <td>Компьютерная техника</td>\n",
              "    </tr>\n",
              "    <tr>\n",
              "      <th>20</th>\n",
              "      <td>d891b3c5d5</td>\n",
              "      <td>direct</td>\n",
              "      <td>15167</td>\n",
              "      <td>Видеорегистраторы</td>\n",
              "      <td>65922fa39c</td>\n",
              "      <td>Авто</td>\n",
              "    </tr>\n",
              "    <tr>\n",
              "      <th>21</th>\n",
              "      <td>ffa1fc88a2</td>\n",
              "      <td>direct</td>\n",
              "      <td>14776</td>\n",
              "      <td>Фотоаппараты</td>\n",
              "      <td>09f279a643</td>\n",
              "      <td>Электроника</td>\n",
              "    </tr>\n",
              "    <tr>\n",
              "      <th>22</th>\n",
              "      <td>8f30c6ac97</td>\n",
              "      <td>direct</td>\n",
              "      <td>13836</td>\n",
              "      <td>Кофеварки и кофемашины</td>\n",
              "      <td>5a0d8ac946</td>\n",
              "      <td>Бытовая техника</td>\n",
              "    </tr>\n",
              "    <tr>\n",
              "      <th>23</th>\n",
              "      <td>eb317da761</td>\n",
              "      <td>direct</td>\n",
              "      <td>13778</td>\n",
              "      <td>Парфюмерия</td>\n",
              "      <td>655ccc3c49</td>\n",
              "      <td>Товары для красоты</td>\n",
              "    </tr>\n",
              "    <tr>\n",
              "      <th>24</th>\n",
              "      <td>01f8276040</td>\n",
              "      <td>direct</td>\n",
              "      <td>12509</td>\n",
              "      <td>Процессоры (CPU)</td>\n",
              "      <td>3509869a61</td>\n",
              "      <td>Компьютерная техника</td>\n",
              "    </tr>\n",
              "    <tr>\n",
              "      <th>25</th>\n",
              "      <td>18436f1c4c</td>\n",
              "      <td>direct</td>\n",
              "      <td>12497</td>\n",
              "      <td>Варочные панели</td>\n",
              "      <td>5a0d8ac946</td>\n",
              "      <td>Бытовая техника</td>\n",
              "    </tr>\n",
              "    <tr>\n",
              "      <th>26</th>\n",
              "      <td>389068f27f</td>\n",
              "      <td>direct</td>\n",
              "      <td>12274</td>\n",
              "      <td>Плиты</td>\n",
              "      <td>5a0d8ac946</td>\n",
              "      <td>Бытовая техника</td>\n",
              "    </tr>\n",
              "    <tr>\n",
              "      <th>27</th>\n",
              "      <td>79164a43ea</td>\n",
              "      <td>direct</td>\n",
              "      <td>11141</td>\n",
              "      <td>Колесные диски</td>\n",
              "      <td>65922fa39c</td>\n",
              "      <td>Авто</td>\n",
              "    </tr>\n",
              "    <tr>\n",
              "      <th>28</th>\n",
              "      <td>367be1ab13</td>\n",
              "      <td>direct</td>\n",
              "      <td>10552</td>\n",
              "      <td>Портативная акустика</td>\n",
              "      <td>09f279a643</td>\n",
              "      <td>Электроника</td>\n",
              "    </tr>\n",
              "    <tr>\n",
              "      <th>29</th>\n",
              "      <td>a659a61627</td>\n",
              "      <td>direct</td>\n",
              "      <td>10517</td>\n",
              "      <td>Духовые шкафы</td>\n",
              "      <td>5a0d8ac946</td>\n",
              "      <td>Бытовая техника</td>\n",
              "    </tr>\n",
              "  </tbody>\n",
              "</table>\n",
              "</div>\n",
              "    <div class=\"colab-df-buttons\">\n",
              "\n",
              "  <div class=\"colab-df-container\">\n",
              "    <button class=\"colab-df-convert\" onclick=\"convertToInteractive('df-fa7c82e7-2b5e-4b30-933b-b12c9b055d45')\"\n",
              "            title=\"Convert this dataframe to an interactive table.\"\n",
              "            style=\"display:none;\">\n",
              "\n",
              "  <svg xmlns=\"http://www.w3.org/2000/svg\" height=\"24px\" viewBox=\"0 -960 960 960\">\n",
              "    <path d=\"M120-120v-720h720v720H120Zm60-500h600v-160H180v160Zm220 220h160v-160H400v160Zm0 220h160v-160H400v160ZM180-400h160v-160H180v160Zm440 0h160v-160H620v160ZM180-180h160v-160H180v160Zm440 0h160v-160H620v160Z\"/>\n",
              "  </svg>\n",
              "    </button>\n",
              "\n",
              "  <style>\n",
              "    .colab-df-container {\n",
              "      display:flex;\n",
              "      gap: 12px;\n",
              "    }\n",
              "\n",
              "    .colab-df-convert {\n",
              "      background-color: #E8F0FE;\n",
              "      border: none;\n",
              "      border-radius: 50%;\n",
              "      cursor: pointer;\n",
              "      display: none;\n",
              "      fill: #1967D2;\n",
              "      height: 32px;\n",
              "      padding: 0 0 0 0;\n",
              "      width: 32px;\n",
              "    }\n",
              "\n",
              "    .colab-df-convert:hover {\n",
              "      background-color: #E2EBFA;\n",
              "      box-shadow: 0px 1px 2px rgba(60, 64, 67, 0.3), 0px 1px 3px 1px rgba(60, 64, 67, 0.15);\n",
              "      fill: #174EA6;\n",
              "    }\n",
              "\n",
              "    .colab-df-buttons div {\n",
              "      margin-bottom: 4px;\n",
              "    }\n",
              "\n",
              "    [theme=dark] .colab-df-convert {\n",
              "      background-color: #3B4455;\n",
              "      fill: #D2E3FC;\n",
              "    }\n",
              "\n",
              "    [theme=dark] .colab-df-convert:hover {\n",
              "      background-color: #434B5C;\n",
              "      box-shadow: 0px 1px 3px 1px rgba(0, 0, 0, 0.15);\n",
              "      filter: drop-shadow(0px 1px 2px rgba(0, 0, 0, 0.3));\n",
              "      fill: #FFFFFF;\n",
              "    }\n",
              "  </style>\n",
              "\n",
              "    <script>\n",
              "      const buttonEl =\n",
              "        document.querySelector('#df-fa7c82e7-2b5e-4b30-933b-b12c9b055d45 button.colab-df-convert');\n",
              "      buttonEl.style.display =\n",
              "        google.colab.kernel.accessAllowed ? 'block' : 'none';\n",
              "\n",
              "      async function convertToInteractive(key) {\n",
              "        const element = document.querySelector('#df-fa7c82e7-2b5e-4b30-933b-b12c9b055d45');\n",
              "        const dataTable =\n",
              "          await google.colab.kernel.invokeFunction('convertToInteractive',\n",
              "                                                    [key], {});\n",
              "        if (!dataTable) return;\n",
              "\n",
              "        const docLinkHtml = 'Like what you see? Visit the ' +\n",
              "          '<a target=\"_blank\" href=https://colab.research.google.com/notebooks/data_table.ipynb>data table notebook</a>'\n",
              "          + ' to learn more about interactive tables.';\n",
              "        element.innerHTML = '';\n",
              "        dataTable['output_type'] = 'display_data';\n",
              "        await google.colab.output.renderOutput(dataTable, element);\n",
              "        const docLink = document.createElement('div');\n",
              "        docLink.innerHTML = docLinkHtml;\n",
              "        element.appendChild(docLink);\n",
              "      }\n",
              "    </script>\n",
              "  </div>\n",
              "\n",
              "\n",
              "<div id=\"df-a909f7ff-f65b-437a-858b-2cb501b42fc8\">\n",
              "  <button class=\"colab-df-quickchart\" onclick=\"quickchart('df-a909f7ff-f65b-437a-858b-2cb501b42fc8')\"\n",
              "            title=\"Suggest charts\"\n",
              "            style=\"display:none;\">\n",
              "\n",
              "<svg xmlns=\"http://www.w3.org/2000/svg\" height=\"24px\"viewBox=\"0 0 24 24\"\n",
              "     width=\"24px\">\n",
              "    <g>\n",
              "        <path d=\"M19 3H5c-1.1 0-2 .9-2 2v14c0 1.1.9 2 2 2h14c1.1 0 2-.9 2-2V5c0-1.1-.9-2-2-2zM9 17H7v-7h2v7zm4 0h-2V7h2v10zm4 0h-2v-4h2v4z\"/>\n",
              "    </g>\n",
              "</svg>\n",
              "  </button>\n",
              "\n",
              "<style>\n",
              "  .colab-df-quickchart {\n",
              "      --bg-color: #E8F0FE;\n",
              "      --fill-color: #1967D2;\n",
              "      --hover-bg-color: #E2EBFA;\n",
              "      --hover-fill-color: #174EA6;\n",
              "      --disabled-fill-color: #AAA;\n",
              "      --disabled-bg-color: #DDD;\n",
              "  }\n",
              "\n",
              "  [theme=dark] .colab-df-quickchart {\n",
              "      --bg-color: #3B4455;\n",
              "      --fill-color: #D2E3FC;\n",
              "      --hover-bg-color: #434B5C;\n",
              "      --hover-fill-color: #FFFFFF;\n",
              "      --disabled-bg-color: #3B4455;\n",
              "      --disabled-fill-color: #666;\n",
              "  }\n",
              "\n",
              "  .colab-df-quickchart {\n",
              "    background-color: var(--bg-color);\n",
              "    border: none;\n",
              "    border-radius: 50%;\n",
              "    cursor: pointer;\n",
              "    display: none;\n",
              "    fill: var(--fill-color);\n",
              "    height: 32px;\n",
              "    padding: 0;\n",
              "    width: 32px;\n",
              "  }\n",
              "\n",
              "  .colab-df-quickchart:hover {\n",
              "    background-color: var(--hover-bg-color);\n",
              "    box-shadow: 0 1px 2px rgba(60, 64, 67, 0.3), 0 1px 3px 1px rgba(60, 64, 67, 0.15);\n",
              "    fill: var(--button-hover-fill-color);\n",
              "  }\n",
              "\n",
              "  .colab-df-quickchart-complete:disabled,\n",
              "  .colab-df-quickchart-complete:disabled:hover {\n",
              "    background-color: var(--disabled-bg-color);\n",
              "    fill: var(--disabled-fill-color);\n",
              "    box-shadow: none;\n",
              "  }\n",
              "\n",
              "  .colab-df-spinner {\n",
              "    border: 2px solid var(--fill-color);\n",
              "    border-color: transparent;\n",
              "    border-bottom-color: var(--fill-color);\n",
              "    animation:\n",
              "      spin 1s steps(1) infinite;\n",
              "  }\n",
              "\n",
              "  @keyframes spin {\n",
              "    0% {\n",
              "      border-color: transparent;\n",
              "      border-bottom-color: var(--fill-color);\n",
              "      border-left-color: var(--fill-color);\n",
              "    }\n",
              "    20% {\n",
              "      border-color: transparent;\n",
              "      border-left-color: var(--fill-color);\n",
              "      border-top-color: var(--fill-color);\n",
              "    }\n",
              "    30% {\n",
              "      border-color: transparent;\n",
              "      border-left-color: var(--fill-color);\n",
              "      border-top-color: var(--fill-color);\n",
              "      border-right-color: var(--fill-color);\n",
              "    }\n",
              "    40% {\n",
              "      border-color: transparent;\n",
              "      border-right-color: var(--fill-color);\n",
              "      border-top-color: var(--fill-color);\n",
              "    }\n",
              "    60% {\n",
              "      border-color: transparent;\n",
              "      border-right-color: var(--fill-color);\n",
              "    }\n",
              "    80% {\n",
              "      border-color: transparent;\n",
              "      border-right-color: var(--fill-color);\n",
              "      border-bottom-color: var(--fill-color);\n",
              "    }\n",
              "    90% {\n",
              "      border-color: transparent;\n",
              "      border-bottom-color: var(--fill-color);\n",
              "    }\n",
              "  }\n",
              "</style>\n",
              "\n",
              "  <script>\n",
              "    async function quickchart(key) {\n",
              "      const quickchartButtonEl =\n",
              "        document.querySelector('#' + key + ' button');\n",
              "      quickchartButtonEl.disabled = true;  // To prevent multiple clicks.\n",
              "      quickchartButtonEl.classList.add('colab-df-spinner');\n",
              "      try {\n",
              "        const charts = await google.colab.kernel.invokeFunction(\n",
              "            'suggestCharts', [key], {});\n",
              "      } catch (error) {\n",
              "        console.error('Error during call to suggestCharts:', error);\n",
              "      }\n",
              "      quickchartButtonEl.classList.remove('colab-df-spinner');\n",
              "      quickchartButtonEl.classList.add('colab-df-quickchart-complete');\n",
              "    }\n",
              "    (() => {\n",
              "      let quickchartButtonEl =\n",
              "        document.querySelector('#df-a909f7ff-f65b-437a-858b-2cb501b42fc8 button');\n",
              "      quickchartButtonEl.style.display =\n",
              "        google.colab.kernel.accessAllowed ? 'block' : 'none';\n",
              "    })();\n",
              "  </script>\n",
              "</div>\n",
              "\n",
              "    </div>\n",
              "  </div>\n"
            ],
            "application/vnd.google.colaboratory.intrinsic+json": {
              "type": "dataframe",
              "variable_name": "df",
              "summary": "{\n  \"name\": \"df\",\n  \"rows\": 1928,\n  \"fields\": [\n    {\n      \"column\": \"subcategory_id\",\n      \"properties\": {\n        \"dtype\": \"string\",\n        \"num_unique_values\": 964,\n        \"samples\": [\n          \"bae52853bc\",\n          \"0d30269f48\",\n          \"2b32e79869\"\n        ],\n        \"semantic_type\": \"\",\n        \"description\": \"\"\n      }\n    },\n    {\n      \"column\": \"source\",\n      \"properties\": {\n        \"dtype\": \"category\",\n        \"num_unique_values\": 2,\n        \"samples\": [\n          \"organic\",\n          \"direct\"\n        ],\n        \"semantic_type\": \"\",\n        \"description\": \"\"\n      }\n    },\n    {\n      \"column\": \"visits\",\n      \"properties\": {\n        \"dtype\": \"number\",\n        \"std\": 31655,\n        \"min\": 4,\n        \"max\": 1163658,\n        \"num_unique_values\": 1342,\n        \"samples\": [\n          11758,\n          284\n        ],\n        \"semantic_type\": \"\",\n        \"description\": \"\"\n      }\n    },\n    {\n      \"column\": \"subcategory_name\",\n      \"properties\": {\n        \"dtype\": \"category\",\n        \"num_unique_values\": 917,\n        \"samples\": [\n          \"\\u0421\\u0432\\u0438\\u0442\\u0435\\u0440\\u044b \\u0438 \\u043a\\u0430\\u0440\\u0434\\u0438\\u0433\\u0430\\u043d\\u044b\",\n          \"\\u041c\\u0438\\u043a\\u0440\\u043e\\u0432\\u043e\\u043b\\u043d\\u043e\\u0432\\u044b\\u0435 \\u043f\\u0435\\u0447\\u0438\"\n        ],\n        \"semantic_type\": \"\",\n        \"description\": \"\"\n      }\n    },\n    {\n      \"column\": \"category_id\",\n      \"properties\": {\n        \"dtype\": \"category\",\n        \"num_unique_values\": 16,\n        \"samples\": [\n          \"09f279a643\",\n          \"3509869a61\"\n        ],\n        \"semantic_type\": \"\",\n        \"description\": \"\"\n      }\n    },\n    {\n      \"column\": \"category_name\",\n      \"properties\": {\n        \"dtype\": \"category\",\n        \"num_unique_values\": 16,\n        \"samples\": [\n          \"\\u042d\\u043b\\u0435\\u043a\\u0442\\u0440\\u043e\\u043d\\u0438\\u043a\\u0430\",\n          \"\\u041a\\u043e\\u043c\\u043f\\u044c\\u044e\\u0442\\u0435\\u0440\\u043d\\u0430\\u044f \\u0442\\u0435\\u0445\\u043d\\u0438\\u043a\\u0430\"\n        ],\n        \"semantic_type\": \"\",\n        \"description\": \"\"\n      }\n    }\n  ]\n}"
            }
          },
          "metadata": {},
          "execution_count": 11
        }
      ],
      "source": [
        "import pandas as pd\n",
        "df = pd.read_csv(\"/content/drive/MyDrive/labs/data_final.csv\")\n",
        "df.head(30)\n"
      ]
    },
    {
      "cell_type": "markdown",
      "metadata": {
        "id": "hab9IX4yo_Jh"
      },
      "source": [
        "## Поворот данных\n",
        "\n",
        "Создавать сводную таблицу **(pivot_table)** лучше всего последовательно. Добавляйте элементы по одному и проверяйте каждый шаг, чтобы убедиться, что вы получаете ожидаемые результаты. Самая простая сводная таблица должна иметь **DataFrame** и индекс **(index)**.\n",
        "\n",
        "В этом примере давайте использовать **category_name** в качестве индекса:\n",
        "\n",
        "**pd.pivot_table(df, index=[\"category_name\"])**"
      ]
    },
    {
      "cell_type": "code",
      "execution_count": null,
      "metadata": {
        "colab": {
          "base_uri": "https://localhost:8080/"
        },
        "id": "Ol1u9WVAo_Ji",
        "outputId": "42334383-e69b-4e53-bc66-14074d656681"
      },
      "outputs": [
        {
          "output_type": "stream",
          "name": "stdout",
          "text": [
            "                                  visits\n",
            "category_name                           \n",
            "Авто                         4328.489583\n",
            "Бытовая техника              7012.164557\n",
            "Дача, сад и огород           1511.142857\n",
            "Детские товары               1657.736434\n",
            "Досуг и развлечения           959.428571\n",
            "Компьютерная техника        12523.693548\n",
            "Оборудование                  475.884615\n",
            "Одежда, обувь и аксессуары   1486.037500\n",
            "Продукты                      595.454545\n",
            "Спорт и отдых                2187.768519\n"
          ]
        }
      ],
      "source": [
        "df_pivot = pd.pivot_table(df, index=[\"category_name\"], values=[\"visits\"])\n",
        "print(df_pivot.head(10))\n"
      ]
    },
    {
      "cell_type": "markdown",
      "metadata": {
        "id": "c6ljN2QWo_Jj"
      },
      "source": [
        "У вас может быть несколько индексов. Фактически, большинство аргументов **pivot_table** могут принимать несколько значений в качестве элементов списка. Добавьте в список индексов переменную **subcategory_name**."
      ]
    },
    {
      "cell_type": "code",
      "execution_count": null,
      "metadata": {
        "id": "mZfo2WUBo_Jj",
        "colab": {
          "base_uri": "https://localhost:8080/"
        },
        "outputId": "290985e8-c375-470f-fb46-e89aca518e2c"
      },
      "outputs": [
        {
          "output_type": "stream",
          "name": "stdout",
          "text": [
            "                                           visits\n",
            "category_name subcategory_name                   \n",
            "Авто          Автоакустика                10674.0\n",
            "              Автомагнитолы               13236.5\n",
            "              Автомобильные инверторы       147.5\n",
            "              Автомобильные компрессоры     598.5\n",
            "              Автомобильные телевизоры     1610.5\n",
            "              Автомобильные холодильники    244.5\n",
            "              Автосигнализации              760.0\n",
            "              Аккумуляторные батареи       1916.0\n",
            "              Антифризы                    1152.0\n",
            "              Багажники, рейлинги           503.0\n"
          ]
        }
      ],
      "source": [
        "pivot_table = pd.pivot_table(df, index=[\"category_name\", 'subcategory_name'], values=[\"visits\"])\n",
        "print(pivot_table.head(10))\n"
      ]
    },
    {
      "cell_type": "markdown",
      "metadata": {
        "id": "nTp10lsio_Jk"
      },
      "source": [
        "Вы могли заметить, что сводная таблица достаточно умна, чтобы начать агрегирование данных и их обобщение, группируя категории товаров (**category_name**) с их подкатегориями (**subcategory_name**). Теперь мы начинаем понимать, что может сделать для нас сводная таблица.\n",
        "\n",
        "Поскольку в данном случае столбец с количественной переменной только один (**visits**), он автоматически определился в качестве значения параметра **values**. Однако, можно явно определить столбцы, которые нам нужны, с помощью этого параметра **values**:\n",
        "\n",
        "**pd.pivot_table(df, index=['category_name', 'subcategory_name'], values=[\"visits\"])**"
      ]
    },
    {
      "cell_type": "code",
      "execution_count": null,
      "metadata": {
        "id": "JUC-dir2o_Jk",
        "colab": {
          "base_uri": "https://localhost:8080/"
        },
        "outputId": "62a3de68-d58d-4998-f8dc-c284d4eab592"
      },
      "outputs": [
        {
          "output_type": "stream",
          "name": "stdout",
          "text": [
            "                                           visits\n",
            "category_name subcategory_name                   \n",
            "Авто          Автоакустика                10674.0\n",
            "              Автомагнитолы               13236.5\n",
            "              Автомобильные инверторы       147.5\n",
            "              Автомобильные компрессоры     598.5\n",
            "              Автомобильные телевизоры     1610.5\n",
            "              Автомобильные холодильники    244.5\n",
            "              Автосигнализации              760.0\n",
            "              Аккумуляторные батареи       1916.0\n",
            "              Антифризы                    1152.0\n",
            "              Багажники, рейлинги           503.0\n"
          ]
        }
      ],
      "source": [
        "pivot_table = pd.pivot_table(df, index=[\"category_name\", 'subcategory_name'], values=[\"visits\"])\n",
        "print(pivot_table.head(10))\n"
      ]
    },
    {
      "cell_type": "markdown",
      "metadata": {
        "id": "koYDAsT2o_Jk"
      },
      "source": [
        "Столбец цен (**visits**) по умолчанию усредняет данные, но мы можем произвести подсчет количества или суммы. Добавить их можно с помощью параметра **aggfunc**:\n",
        "\n",
        "**pd.pivot_table(df, index=['category_name', 'subcategory_name'], values=[\"visits\"], aggfunc='sum')**"
      ]
    },
    {
      "cell_type": "code",
      "execution_count": null,
      "metadata": {
        "id": "totojTEZo_Jk",
        "colab": {
          "base_uri": "https://localhost:8080/"
        },
        "outputId": "6893f373-3f4c-47f3-b0be-e61a22a3fdec"
      },
      "outputs": [
        {
          "output_type": "stream",
          "name": "stdout",
          "text": [
            "                                          visits\n",
            "category_name subcategory_name                  \n",
            "Авто          Автоакустика                 21348\n",
            "              Автомагнитолы                26473\n",
            "              Автомобильные инверторы        295\n",
            "              Автомобильные компрессоры     1197\n",
            "              Автомобильные телевизоры      3221\n",
            "              Автомобильные холодильники     489\n",
            "              Автосигнализации              1520\n",
            "              Аккумуляторные батареи        3832\n",
            "              Антифризы                     2304\n",
            "              Багажники, рейлинги           1006\n"
          ]
        }
      ],
      "source": [
        "pivot_table = pd.pivot_table(df, index=['category_name', 'subcategory_name'], values=[\"visits\"], aggfunc='sum')\n",
        "print(pivot_table.head(10))\n"
      ]
    },
    {
      "cell_type": "markdown",
      "metadata": {
        "id": "fxOGKUlao_Jk"
      },
      "source": [
        "**Aggfunc** может принимать список функций.\n",
        "\n",
        "Давайте попробуем узнать среднее значение и количество:\n",
        "\n"
      ]
    },
    {
      "cell_type": "code",
      "execution_count": null,
      "metadata": {
        "id": "5vaYP3Mbo_Jl",
        "colab": {
          "base_uri": "https://localhost:8080/"
        },
        "outputId": "d385f4de-f676-4408-9f98-877b5aa1c0d2"
      },
      "outputs": [
        {
          "output_type": "stream",
          "name": "stdout",
          "text": [
            "                                           visits\n",
            "category_name subcategory_name                   \n",
            "Авто          Автоакустика                10674.0\n",
            "              Автомагнитолы               13236.5\n",
            "              Автомобильные инверторы       147.5\n",
            "              Автомобильные компрессоры     598.5\n",
            "              Автомобильные телевизоры     1610.5\n",
            "              Автомобильные холодильники    244.5\n",
            "              Автосигнализации              760.0\n",
            "              Аккумуляторные батареи       1916.0\n",
            "              Антифризы                    1152.0\n",
            "              Багажники, рейлинги           503.0\n"
          ]
        }
      ],
      "source": [
        "pivot_table_mean = pd.pivot_table(df, index=['category_name', 'subcategory_name'], values=[\"visits\"], aggfunc='mean')\n",
        "print(pivot_table_mean.head(10))"
      ]
    },
    {
      "cell_type": "markdown",
      "metadata": {
        "id": "5OUedhF9o_Jl"
      },
      "source": [
        "Если мы хотим увидеть визиты с разбивкой по источникам трафика (**source**), переменная **columns** позволяет нам определить один или несколько столбцов.\n",
        "\n",
        "Одна из сложностей **pivot_table** - это использование столбцов (**columns**) и значений (**values**).\n",
        "\n",
        "Помните, что столбцы необязательны - они предоставляют дополнительный способ сегментировать актуальные значения, которые вам нужны.\n",
        "\n",
        "Функции агрегирования применяются к перечисленным значениям (**values**):\n",
        "\n",
        "**pd.pivot_table(df, index=['category_name', 'subcategory_name'], values=[\"visits\"], columns=[\"source\"], aggfunc='sum'])**\n"
      ]
    },
    {
      "cell_type": "code",
      "execution_count": null,
      "metadata": {
        "id": "YumKG0QSo_Jl",
        "colab": {
          "base_uri": "https://localhost:8080/"
        },
        "outputId": "76ea690c-06af-46dd-aa94-c1b046c134ef"
      },
      "outputs": [
        {
          "output_type": "stream",
          "name": "stdout",
          "text": [
            "                                         visits        \n",
            "source                                   direct organic\n",
            "category_name subcategory_name                         \n",
            "Авто          Автоакустика                 5915   15433\n",
            "              Автомагнитолы                7783   18690\n",
            "              Автомобильные инверторы       145     150\n",
            "              Автомобильные компрессоры     407     790\n",
            "              Автомобильные телевизоры      975    2246\n",
            "              Автомобильные холодильники    204     285\n",
            "              Автосигнализации              494    1026\n",
            "              Аккумуляторные батареи       1175    2657\n",
            "              Антифризы                     736    1568\n",
            "              Багажники, рейлинги           342     664\n"
          ]
        }
      ],
      "source": [
        "pivot_table = pd.pivot_table(df, index=['category_name', 'subcategory_name'], values=[\"visits\"], columns=[\"source\"], aggfunc='sum')\n",
        "print(pivot_table.head(10))\n"
      ]
    },
    {
      "cell_type": "markdown",
      "metadata": {
        "id": "l8TiSa69o_Jm"
      },
      "source": [
        "Теперь вы видите название категории и её подкатегории со значениями объёма трафика по каждой.\n",
        "\n",
        "Как видно, основная категория включает в себя подкатегорию и это представлено в структуре датафрейма: категория отображена иерархически главной над подкатегорией. Такие датафреймы содержат в себе мультииндекс. Часто при работе с такими датафреймами мультииндекс убирают, чтобы категория была отображена на каждой строчке датафрейма:\n",
        "\n",
        "**pd.pivot_table(df, index=['category_name', 'subcategory_name'], values=[\"visits\"],\n",
        "               columns=[\"source\"], aggfunc='sum').reset_index()**\n"
      ]
    },
    {
      "cell_type": "code",
      "execution_count": null,
      "metadata": {
        "id": "nUuMkhgdo_Jm",
        "colab": {
          "base_uri": "https://localhost:8080/"
        },
        "outputId": "2249e3e2-ece9-433b-c65b-5f727ba2eebd"
      },
      "outputs": [
        {
          "output_type": "stream",
          "name": "stdout",
          "text": [
            "                                         visits        \n",
            "source                                   direct organic\n",
            "category_name subcategory_name                         \n",
            "Авто          Автоакустика                 5915   15433\n",
            "              Автомагнитолы                7783   18690\n",
            "              Автомобильные инверторы       145     150\n",
            "              Автомобильные компрессоры     407     790\n",
            "              Автомобильные телевизоры      975    2246\n",
            "              Автомобильные холодильники    204     285\n",
            "              Автосигнализации              494    1026\n",
            "              Аккумуляторные батареи       1175    2657\n",
            "              Антифризы                     736    1568\n",
            "              Багажники, рейлинги           342     664\n"
          ]
        }
      ],
      "source": [
        "pd.pivot_table(df, index=['category_name', 'subcategory_name'], values=[\"visits\"], columns=[\"source\"], aggfunc='sum').reset_index()\n",
        "print(pivot_table.head(10))"
      ]
    },
    {
      "cell_type": "markdown",
      "metadata": {
        "id": "SS0lOQtJo_Jm"
      },
      "source": [
        "В таблице выше суммы визитов **visits** по каждому из источников **source (direct и organic)** представлены в отдельных столбцах. Такой вид таблицы называется «широкий». Он удобен, когда нужно сравнить значения столбцов. Хорошо заметно, например, что в подкатегории «Автомобильные инверторы» количество визитов из источников **direct** и **organic** практически одинаково, а в подкатегории «Автомагнитолы» из источника **organic** пришло почти в два раза больше посетителей, чем из **direct**."
      ]
    },
    {
      "cell_type": "markdown",
      "metadata": {
        "id": "NzxHa2aQo_Jm"
      },
      "source": [
        "## Расширенная фильтрация сводной таблицы\n",
        "\n",
        "После того, как вы сгенерировали свои данные, они находятся в **DataFrame**, поэтому можно фильтровать их, используя обычные методы **DataFrame**.\n",
        "\n",
        "Если вы хотите посмотреть только на одну категорию, например, \"Товары для дома\":\n",
        "\n",
        "**data_pivot = pd.pivot_table(df, index=['category_name', 'subcategory_name'], values='visits', columns='source',\n",
        "                            aggfunc='sum').reset_index()**\n",
        "**print((data_pivot[data_pivot['category_name']=='Товары для дома']).head(10))**"
      ]
    },
    {
      "cell_type": "code",
      "execution_count": null,
      "metadata": {
        "id": "UIXPwsj-o_Jm",
        "colab": {
          "base_uri": "https://localhost:8080/"
        },
        "outputId": "b31e4ef0-fcf4-4174-d045-885c9eec781a"
      },
      "outputs": [
        {
          "output_type": "stream",
          "name": "stdout",
          "text": [
            "source    category_name          subcategory_name  direct  organic\n",
            "646     Товары для дома                Аксессуары     219      329\n",
            "647     Товары для дома    Аксессуары для готовки     216      326\n",
            "648     Товары для дома        Банки для хранения     113       58\n",
            "649     Товары для дома         Блюда и салатники     300      550\n",
            "650     Товары для дома          Бокалы и стаканы     750     1595\n",
            "651     Товары для дома                       Бра     265      452\n",
            "652     Товары для дома                      Вазы     142      142\n",
            "653     Товары для дома         Вешалки напольные     304      562\n",
            "654     Товары для дома  Встраиваемые светильники     306      563\n",
            "655     Товары для дома       Выпечка и запекание     698     1460\n"
          ]
        }
      ],
      "source": [
        "data_pivot = pd.pivot_table(df, index=['category_name', 'subcategory_name'], values='visits', columns='source', aggfunc='sum').reset_index()\n",
        "print((data_pivot[data_pivot['category_name']=='Товары для дома']).head(10))"
      ]
    },
    {
      "cell_type": "markdown",
      "metadata": {
        "id": "kdC0tenYo_Jn"
      },
      "source": [
        "Или, например, мы можем узнать на какие товары запросы с органического трафика в разы больше, чем с прямого. Для этого создадим в таблице **data_pivot** новый столбец **'ratio'** и сохраните в нём значение отношения органического трафика **'organic'** к прямому **'direct'**.\n",
        "\n",
        "Отсортируем таблицу по столбцу 'ratio' в порядке убывания. Выведите первые 10 строк.\n",
        "\n",
        "**data_pivot['ratio'] = data_pivot['organic'] / data_pivot['direct']**\n",
        "\n",
        "**data_my = data_pivot.sort_values(by = 'ratio', ascending=False)**\n",
        "\n",
        "**print(data_my.head(10))**"
      ]
    },
    {
      "cell_type": "code",
      "execution_count": null,
      "metadata": {
        "id": "-DHPuk9ho_Jn",
        "colab": {
          "base_uri": "https://localhost:8080/"
        },
        "outputId": "69154ac5-fe1c-4f3f-ba4a-61c0447b42ae"
      },
      "outputs": [
        {
          "output_type": "stream",
          "name": "stdout",
          "text": [
            "source           category_name                    subcategory_name  direct  \\\n",
            "45                        Авто                                Шины   39638   \n",
            "105            Бытовая техника                   Стиральные машины   22064   \n",
            "468              Спорт и отдых                          Велосипеды   16009   \n",
            "205             Детские товары                             Коляски   18079   \n",
            "609     Строительство и ремонт                  Сварочные аппараты    6175   \n",
            "678            Товары для дома                 Компьютерные кресла    6208   \n",
            "330       Компьютерная техника                          Клавиатуры    6224   \n",
            "921                Электроника  Универсальные внешние аккумуляторы    6146   \n",
            "866                Электроника                           TV-тюнеры    6275   \n",
            "117            Бытовая техника                        Холодильники   20920   \n",
            "\n",
            "source  organic     ratio  \n",
            "45       153859  3.881604  \n",
            "105       64570  2.926487  \n",
            "468       46087  2.878818  \n",
            "205       52005  2.876542  \n",
            "609       17325  2.805668  \n",
            "678       17407  2.803963  \n",
            "330       17417  2.798361  \n",
            "921       17115  2.784738  \n",
            "866       17427  2.777211  \n",
            "117       57985  2.771750  \n"
          ]
        }
      ],
      "source": [
        "data_pivot['ratio'] = data_pivot['organic'] / data_pivot['direct']\n",
        "data_my = data_pivot.sort_values(by = 'ratio', ascending=False)\n",
        "print(data_my.head(10))"
      ]
    },
    {
      "cell_type": "markdown",
      "metadata": {
        "id": "fSz7mUcuo_Jn"
      },
      "source": [
        "# Задачи для самостоятельного выполнения\n",
        "\n",
        "Для начала давайте представим, что мы являемся аналитиками в фирме по продаже компьютеров, программного обеспечения к ним, а также оказываем услуги по техническому сопровождению. Нам поставлена задача проанализировать участие компании в различных аукционах.\n",
        "\n",
        "1. Прочитайте и сохраните файл \"baza.xlsx\" с данными аукционов в переменную data_pd."
      ]
    },
    {
      "cell_type": "code",
      "execution_count": null,
      "metadata": {
        "id": "0jRpT5Too_Jn",
        "colab": {
          "base_uri": "https://localhost:8080/"
        },
        "outputId": "62741ba0-0f1d-476e-b25d-37d1d6c0d0fc"
      },
      "outputs": [
        {
          "output_type": "stream",
          "name": "stdout",
          "text": [
            "   Аукцион  Контрагент        Контакт      Менеджер             Продукт  \\\n",
            "0   424845  Ильин и Ко   Сергей Ильин  Илья Сергеев           Компьютер   \n",
            "1   312058  Ильин и Ко   Сергей Ильин  Илья Сергеев                Софт   \n",
            "2   918390  Ильин и Ко   Сергей Ильин  Илья Сергеев  Тех. сопровождение   \n",
            "3   997345  Ильин и Ко   Сергей Ильин  Илья Сергеев           Компьютер   \n",
            "4   496901  Шахты плюс  Данил Сидоров  Илья Сергеев           Компьютер   \n",
            "5   800437  Шахты плюс  Данил Сидоров  Илья Сергеев           Компьютер   \n",
            "6   967756  Шахты плюс  Данил Сидоров  Илья Сергеев                Софт   \n",
            "7   871434       Альма     Женя Сидин  Илья Сергеев  Тех. сопровождение   \n",
            "8   131102       Альма     Женя Сидин  Илья Сергеев           Компьютер   \n",
            "9   191777   Микрошкин   Сергей Минин   Павел Попов           Компьютер   \n",
            "\n",
            "   Количество   Цена           Статус  \n",
            "0           4  45200  на рассмотрении  \n",
            "1           2  37600  на рассмотрении  \n",
            "2           2  21200       в ожидании  \n",
            "3           5  39100          отменен  \n",
            "4           3  13600          выигран  \n",
            "5           1  24400       в ожидании  \n",
            "6           1   6700  на рассмотрении  \n",
            "7           2   7000       в ожидании  \n",
            "8           4  42000          отменен  \n",
            "9           3  28900          выигран  \n"
          ]
        }
      ],
      "source": [
        "data_pd = pd.read_excel('/content/drive/MyDrive/labs/baza.xlsx')\n",
        "print(data_pd.head(10))"
      ]
    },
    {
      "cell_type": "markdown",
      "metadata": {
        "id": "I6Fxwxxwo_Jn"
      },
      "source": [
        "2. Cоздайте сводную таблицу сводную таблицу по столбцу Контрагент:"
      ]
    },
    {
      "cell_type": "code",
      "execution_count": null,
      "metadata": {
        "id": "z98hF33Io_Jn",
        "colab": {
          "base_uri": "https://localhost:8080/"
        },
        "outputId": "7fd218b0-94cf-4a8a-a141-eed3c4eccf01"
      },
      "outputs": [
        {
          "output_type": "stream",
          "name": "stdout",
          "text": [
            "                      Аукцион  Количество   Цена\n",
            "Контрагент                                      \n",
            "Альма           501268.000000    3.000000  24500\n",
            "Ильин и Ко      663159.500000    3.250000  35775\n",
            "Кружка и ложка  299563.750000    2.750000  27000\n",
            "Микрошкин       230691.750000    3.500000  23275\n",
            "Шахты плюс      755031.333333    1.666667  14900\n"
          ]
        }
      ],
      "source": [
        "data_pivot = pd.pivot_table(data_pd, index=['Контрагент'], values=['Аукцион','Количество','Цена'])\n",
        "print(data_pivot.head(5))"
      ]
    },
    {
      "cell_type": "markdown",
      "metadata": {
        "id": "P5SRgIZgo_Jo"
      },
      "source": [
        "3. Создайте сводную таблицу по нескольким индексируемым столбцам  'Контакт', 'Менеджер':\n"
      ]
    },
    {
      "cell_type": "code",
      "execution_count": null,
      "metadata": {
        "id": "IORPte8Uo_Jo",
        "colab": {
          "base_uri": "https://localhost:8080/"
        },
        "outputId": "bf25d971-d473-4861-9245-0e76f8d88c0a"
      },
      "outputs": [
        {
          "output_type": "stream",
          "name": "stdout",
          "text": [
            "                                  Аукцион  Количество   Цена\n",
            "Контакт       Менеджер                                      \n",
            "Виктор Юдин   Павел Попов   299563.750000    2.750000  27000\n",
            "Данил Сидоров Илья Сергеев  755031.333333    1.666667  14900\n",
            "Женя Сидин    Илья Сергеев  501268.000000    3.000000  24500\n",
            "Сергей Ильин  Илья Сергеев  663159.500000    3.250000  35775\n",
            "Сергей Минин  Павел Попов   230691.750000    3.500000  23275\n"
          ]
        }
      ],
      "source": [
        "data_pivot = pd.pivot_table(data_pd, index=['Контакт','Менеджер'], values=['Аукцион','Количество','Цена'])\n",
        "print(data_pivot.head(5))"
      ]
    },
    {
      "cell_type": "markdown",
      "metadata": {
        "id": "0l8nSFGIo_Jo"
      },
      "source": [
        "4. По умолчанию сводная таблица выводится по всем числовым полям, однако это не всегда удобно, а иногда и лишено смысла, поэтому можно выводить сводные данные только по отдельным столбцам. Выведите только столбец \"Стоимость\", для этого добавьте параметр values=['Цена']:"
      ]
    },
    {
      "cell_type": "code",
      "execution_count": null,
      "metadata": {
        "id": "CGkozOZzo_Jo",
        "colab": {
          "base_uri": "https://localhost:8080/"
        },
        "outputId": "bc1588ac-fe34-4b3a-d96f-bb24da91ef35"
      },
      "outputs": [
        {
          "output_type": "stream",
          "name": "stdout",
          "text": [
            "                             Цена\n",
            "Контакт       Менеджер           \n",
            "Виктор Юдин   Павел Попов   27000\n",
            "Данил Сидоров Илья Сергеев  14900\n",
            "Женя Сидин    Илья Сергеев  24500\n",
            "Сергей Ильин  Илья Сергеев  35775\n",
            "Сергей Минин  Павел Попов   23275\n"
          ]
        }
      ],
      "source": [
        "pivot_table = pd.pivot_table(data_pd, index=['Контакт', 'Менеджер'], values=['Цена'])\n",
        "print(pivot_table.head(5))"
      ]
    },
    {
      "cell_type": "markdown",
      "metadata": {
        "id": "DnDBUXUoo_Jo"
      },
      "source": [
        "5. Столбец с ценой по умолчанию выводит среднее значение, однако нам скорее интересна сумма продаж. Добавляем параметр aggfunc='sum':"
      ]
    },
    {
      "cell_type": "code",
      "execution_count": null,
      "metadata": {
        "id": "213A6n4Zo_Jo",
        "colab": {
          "base_uri": "https://localhost:8080/"
        },
        "outputId": "c55f0aa5-d7d1-49b5-ba67-2c1e7ef92ebf"
      },
      "outputs": [
        {
          "output_type": "stream",
          "name": "stdout",
          "text": [
            "                              Цена\n",
            "Контакт       Менеджер            \n",
            "Виктор Юдин   Павел Попов   108000\n",
            "Данил Сидоров Илья Сергеев   44700\n",
            "Женя Сидин    Илья Сергеев   49000\n",
            "Сергей Ильин  Илья Сергеев  143100\n",
            "Сергей Минин  Павел Попов    93100\n"
          ]
        }
      ],
      "source": [
        "pivot_table = pd.pivot_table(data_pd, index=['Контакт', 'Менеджер'], values=['Цена'], aggfunc='sum')\n",
        "print(pivot_table.head(5))"
      ]
    },
    {
      "cell_type": "markdown",
      "metadata": {
        "id": "eP2qpkXno_Jp"
      },
      "source": [
        "6. С помощью параметра columns выведите в столбцы наименование продуктов:"
      ]
    },
    {
      "cell_type": "code",
      "execution_count": null,
      "metadata": {
        "id": "DYp8KcW0o_Jp",
        "colab": {
          "base_uri": "https://localhost:8080/"
        },
        "outputId": "57fe52d6-6ad0-45da-845b-5e598c095c45"
      },
      "outputs": [
        {
          "output_type": "stream",
          "name": "stdout",
          "text": [
            "                                Цена                                    \n",
            "Продукт                    Компьютер Монитор     Софт Тех. сопровождение\n",
            "Контакт       Менеджер                                                  \n",
            "Виктор Юдин   Павел Попов    83900.0  9300.0      NaN            14800.0\n",
            "Данил Сидоров Илья Сергеев   38000.0     NaN   6700.0                NaN\n",
            "Женя Сидин    Илья Сергеев   42000.0     NaN      NaN             7000.0\n",
            "Сергей Ильин  Илья Сергеев   84300.0     NaN  37600.0            21200.0\n",
            "Сергей Минин  Павел Попов    43900.0     NaN  46900.0             2300.0\n"
          ]
        }
      ],
      "source": [
        "pivot_table = pd.pivot_table(data_pd, index=['Контакт', 'Менеджер'], columns=['Продукт'], values=['Цена'], aggfunc='sum')\n",
        "print(pivot_table.head(5))"
      ]
    },
    {
      "cell_type": "markdown",
      "metadata": {
        "id": "JqHJ_-3fo_Jp"
      },
      "source": [
        "7. Наверное вы обратили внимание, что в ячейках, где нет данных пусто, хотя нам привычнее, что бы в таких полях указывалось бы значение 0. Добавьте параметр fill_value=0:"
      ]
    },
    {
      "cell_type": "code",
      "execution_count": null,
      "metadata": {
        "id": "gLCvVf09o_Jp",
        "colab": {
          "base_uri": "https://localhost:8080/"
        },
        "outputId": "f7f1a319-a496-425a-fb03-037007c473be"
      },
      "outputs": [
        {
          "output_type": "stream",
          "name": "stdout",
          "text": [
            "                                Цена                                  \n",
            "Продукт                    Компьютер Монитор   Софт Тех. сопровождение\n",
            "Контакт       Менеджер                                                \n",
            "Виктор Юдин   Павел Попов      83900    9300      0              14800\n",
            "Данил Сидоров Илья Сергеев     38000       0   6700                  0\n",
            "Женя Сидин    Илья Сергеев     42000       0      0               7000\n",
            "Сергей Ильин  Илья Сергеев     84300       0  37600              21200\n",
            "Сергей Минин  Павел Попов      43900       0  46900               2300\n"
          ]
        }
      ],
      "source": [
        "pivot_table = pd.pivot_table(data_pd, index=['Контакт', 'Менеджер'], columns=['Продукт'], values=['Цена'], aggfunc='sum', fill_value=0)\n",
        "print(pivot_table.head(5))"
      ]
    },
    {
      "cell_type": "markdown",
      "metadata": {
        "id": "VsqhU99Ko_Jp"
      },
      "source": [
        "8. Вероятно полезно было бы рассматривать эффективность деятельности наших менеджеров не только по стоимости продаж, но и по их количеству. Добавьте в параметр values переменную  \"Количество\""
      ]
    },
    {
      "cell_type": "code",
      "execution_count": null,
      "metadata": {
        "id": "jxUzcFwro_Jq",
        "colab": {
          "base_uri": "https://localhost:8080/"
        },
        "outputId": "51a02642-93db-42a0-efa9-6e5a7bb5b1f4"
      },
      "outputs": [
        {
          "output_type": "stream",
          "name": "stdout",
          "text": [
            "                           Количество                                  \\\n",
            "Продукт                     Компьютер Монитор Софт Тех. сопровождение   \n",
            "Контакт       Менеджер                                                  \n",
            "Виктор Юдин   Павел Попов           6       4    0                  1   \n",
            "Данил Сидоров Илья Сергеев          4       0    1                  0   \n",
            "Женя Сидин    Илья Сергеев          4       0    0                  2   \n",
            "Сергей Ильин  Илья Сергеев          9       0    2                  2   \n",
            "Сергей Минин  Павел Попов           8       0    4                  2   \n",
            "\n",
            "                                Цена                                    \n",
            "Продукт                    Компьютер Монитор   Софт Тех. сопровождение  \n",
            "Контакт       Менеджер                                                  \n",
            "Виктор Юдин   Павел Попов      83900    9300      0              14800  \n",
            "Данил Сидоров Илья Сергеев     38000       0   6700                  0  \n",
            "Женя Сидин    Илья Сергеев     42000       0      0               7000  \n",
            "Сергей Ильин  Илья Сергеев     84300       0  37600              21200  \n",
            "Сергей Минин  Павел Попов      43900       0  46900               2300  \n"
          ]
        }
      ],
      "source": [
        "pivot_table = pd.pivot_table(data_pd, index=['Контакт', 'Менеджер'], columns=['Продукт'], values=['Цена', 'Количество'], aggfunc='sum', fill_value=0)\n",
        "print(pivot_table.head(5))"
      ]
    },
    {
      "cell_type": "markdown",
      "metadata": {
        "id": "vPaSTR7po_Jq"
      },
      "source": [
        "9. Выведите продажи только менеджера \"Илья Сергеев\":"
      ]
    },
    {
      "cell_type": "code",
      "execution_count": null,
      "metadata": {
        "id": "DayZkzfKo_Jx",
        "colab": {
          "base_uri": "https://localhost:8080/"
        },
        "outputId": "9f9defa6-fc6b-43ac-ff63-83bf1b29ac01"
      },
      "outputs": [
        {
          "output_type": "stream",
          "name": "stdout",
          "text": [
            "               Контакт      Менеджер Количество               \\\n",
            "Продукт                               Компьютер Монитор Софт   \n",
            "1        Данил Сидоров  Илья Сергеев          4       0    1   \n",
            "2           Женя Сидин  Илья Сергеев          4       0    0   \n",
            "3         Сергей Ильин  Илья Сергеев          9       0    2   \n",
            "\n",
            "                                Цена                                    \n",
            "Продукт Тех. сопровождение Компьютер Монитор   Софт Тех. сопровождение  \n",
            "1                        0     38000       0   6700                  0  \n",
            "2                        2     42000       0      0               7000  \n",
            "3                        2     84300       0  37600              21200  \n"
          ]
        }
      ],
      "source": [
        "pivot_table = pivot_table.reset_index()\n",
        "print((pivot_table[pivot_table['Менеджер'] == \"Илья Сергеев\"]).head(10))"
      ]
    }
  ],
  "metadata": {
    "kernelspec": {
      "display_name": "Python 3",
      "name": "python3"
    },
    "language_info": {
      "codemirror_mode": {
        "name": "ipython",
        "version": 3
      },
      "file_extension": ".py",
      "mimetype": "text/x-python",
      "name": "python",
      "nbconvert_exporter": "python",
      "pygments_lexer": "ipython3",
      "version": "3.9.12"
    },
    "colab": {
      "provenance": [],
      "include_colab_link": true
    }
  },
  "nbformat": 4,
  "nbformat_minor": 0
}